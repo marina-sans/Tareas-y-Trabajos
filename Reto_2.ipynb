{
  "nbformat": 4,
  "nbformat_minor": 0,
  "metadata": {
    "colab": {
      "provenance": []
    },
    "kernelspec": {
      "name": "python3",
      "display_name": "Python 3"
    },
    "language_info": {
      "name": "python"
    }
  },
  "cells": [
    {
      "cell_type": "code",
      "execution_count": 1,
      "metadata": {
        "colab": {
          "base_uri": "https://localhost:8080/"
        },
        "id": "ElCDxOd0bxco",
        "outputId": "73afe386-33fa-4306-bdc1-25bb574b388f"
      },
      "outputs": [
        {
          "output_type": "stream",
          "name": "stdout",
          "text": [
            "Introduce la palabra a encriptar: Mar\n",
            "Palabra encriptada: Nbs\n"
          ]
        }
      ],
      "source": [
        "#Realice una función en Python que encripte una palabra pedida al usuario, la función debe tener como parámetro de ingreso la palabra y retornar la encriptación de la misma, la cual se le imprimirá al usuario\n",
        "\n",
        "def encriptar_palabra(palabra, desplazamiento):\n",
        "    encriptado = []\n",
        "    for caracter in palabra:\n",
        "        #Para comprobar si es una letra lo que se ingresó\n",
        "        if caracter.isalpha():\n",
        "            #Ver si es mayúscula o minúscula\n",
        "            ascii_offset = 65 if caracter.isupper() else 97\n",
        "            #Para desplazar las letras\n",
        "            nuevo_caracter = chr((ord(caracter) - ascii_offset + desplazamiento) % 26 + ascii_offset)\n",
        "            encriptado.append(nuevo_caracter)\n",
        "        else:\n",
        "            #Regresar lo que se ingresó si no es una letra\n",
        "            encriptado.append(caracter)\n",
        "    return ''.join(encriptado)\n",
        "\n",
        "#Para pedir la palabra\n",
        "palabra_usuario = input(\"Introduce la palabra a encriptar: \")\n",
        "\n",
        "#Definir cuantas palabras de desplaza\n",
        "desplazamiento = 1\n",
        "#\n",
        "#Aqui se encripta y lo imprime\n",
        "palabra_encriptada = encriptar_palabra(palabra_usuario, desplazamiento)\n",
        "print(\"Palabra encriptada:\", palabra_encriptada)"
      ]
    }
  ]
}