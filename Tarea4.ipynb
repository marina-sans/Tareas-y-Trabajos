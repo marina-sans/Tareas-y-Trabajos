{
  "nbformat": 4,
  "nbformat_minor": 0,
  "metadata": {
    "colab": {
      "provenance": []
    },
    "kernelspec": {
      "name": "python3",
      "display_name": "Python 3"
    },
    "language_info": {
      "name": "python"
    }
  },
  "cells": [
    {
      "cell_type": "markdown",
      "source": [
        "Ejercicio 1:\n",
        "\n",
        "Diseña un programa que convierta dólares americanos a pesos mexicanos, euros, libras esterlinas, yuanes y rublos utilizando una tasa de cambio fija. Muestre la tasa de cambio e imprima los cinco resultados."
      ],
      "metadata": {
        "id": "UAvNEX0G5Mjz"
      }
    },
    {
      "cell_type": "code",
      "source": [
        "#Ejercicio 1:\n",
        "def obtener_tasas_de_cambio():\n",
        "    return {\n",
        "        'MXN': 17.12,  # Pesos mexicanos\n",
        "        'EUR': 0.92,   # Euros\n",
        "        'GBP': 0.79,   # Libras esterlinas\n",
        "        'CNY': 7.24,   # Yuanes chinos\n",
        "        'RUB': 91.55   # Rublos rusos\n",
        "    }\n",
        "\n",
        "def mostrar_tasas(tasas):\n",
        "    print(\"Tasas de cambio actuales (1 USD equivale a):\")\n",
        "    for moneda, tasa in tasas.items():\n",
        "        print(f\" - {tasa} {moneda}\")\n",
        "\n",
        "def convertir_dolares(dolares, tasas):\n",
        "    print(f\"\\n{dolares} USD equivalen a:\")\n",
        "    for moneda, tasa in tasas.items():\n",
        "        cantidad_convertida = dolares * tasa\n",
        "        print(f\" - {cantidad_convertida:.2f} {moneda}\")\n",
        "\n",
        "def main():\n",
        "    try:\n",
        "        dolares = float(input(\"Ingresa la cantidad en dólares (USD): \"))\n",
        "        tasas = obtener_tasas_de_cambio()\n",
        "        mostrar_tasas(tasas)\n",
        "        convertir_dolares(dolares, tasas)\n",
        "    except ValueError:\n",
        "         print(\"Por favor, ingresa un número válido.\")\n",
        "\n",
        "if __name__ == \"__main__\":\n",
        "  main()"
      ],
      "metadata": {
        "colab": {
          "base_uri": "https://localhost:8080/"
        },
        "id": "04Ggv_U65TI7",
        "outputId": "6e10778e-5c29-4a3a-cdee-bc71235d9cd3"
      },
      "execution_count": 2,
      "outputs": [
        {
          "output_type": "stream",
          "name": "stdout",
          "text": [
            "Ingresa la cantidad en dólares (USD): 23\n",
            "Tasas de cambio actuales (1 USD equivale a):\n",
            " - 17.12 MXN\n",
            " - 0.92 EUR\n",
            " - 0.79 GBP\n",
            " - 7.24 CNY\n",
            " - 91.55 RUB\n",
            "\n",
            "23.0 USD equivalen a:\n",
            " - 393.76 MXN\n",
            " - 21.16 EUR\n",
            " - 18.17 GBP\n",
            " - 166.52 CNY\n",
            " - 2105.65 RUB\n"
          ]
        }
      ]
    },
    {
      "cell_type": "markdown",
      "source": [
        "Ejercicio 2:\n",
        "\n",
        "Desarrolla un programa que calcule el precio final de un producto después de aplicar un descuento. El usuario debe ingresar el precio original y el porcentaje de descuento. Imprima el precio final."
      ],
      "metadata": {
        "id": "EsYZyr89dJRg"
      }
    },
    {
      "cell_type": "code",
      "source": [
        "#Ejercicio 2:\n",
        "def calcular_precio_final():\n",
        "    precio_original = float(input(\"Ingresa el precio original del producto: \"))\n",
        "    porcentaje_descuento = float(input(\"Ingresa el porcentaje de descuento: \"))\n",
        "\n",
        "    descuento = (precio_original * porcentaje_descuento) / 100\n",
        "\n",
        "    precio_final = precio_original - descuento\n",
        "\n",
        "    print(f\"\\nPrecio original: ${precio_original:.2f}\")\n",
        "    print(f\"Descuento aplicado: ${descuento:.2f} ({porcentaje_descuento}%)\")\n",
        "    print(f\"Precio final: ${precio_final:.2f}\")\n",
        "\n",
        "calcular_precio_final()"
      ],
      "metadata": {
        "colab": {
          "base_uri": "https://localhost:8080/"
        },
        "id": "3W_wefySdSJW",
        "outputId": "54c97e22-8e92-4649-85bc-d14f038fbafd"
      },
      "execution_count": 4,
      "outputs": [
        {
          "output_type": "stream",
          "name": "stdout",
          "text": [
            "Ingresa el precio original del producto: 566\n",
            "Ingresa el porcentaje de descuento: 30\n",
            "\n",
            "Precio original: $566.00\n",
            "Descuento aplicado: $169.80 (30.0%)\n",
            "Precio final: $396.20\n"
          ]
        }
      ]
    },
    {
      "cell_type": "markdown",
      "source": [
        "Ejercicio 3:\n",
        "\n",
        "Crea un script que determine cuál de tres números introducidos por el usuario es el mayor, usando sentencias IF anidadas o múltiples ELIF."
      ],
      "metadata": {
        "id": "hkJ5YjGjjYUm"
      }
    },
    {
      "cell_type": "code",
      "source": [
        "#Ejercicio 3:\n",
        "numero1 = float(input(\"Escriba su primer número: \"))\n",
        "numero2 = float(input(\"Escriba su segundo número: \"))\n",
        "numero3 = float(input(\"Escriba su tercer número: \"))\n",
        "\n",
        "if numero1 >= numero2:\n",
        "    if numero1 >= numero3:\n",
        "        print(f\"El número mayor es: {numero1}\")\n",
        "    else:\n",
        "        print(f\"El número mayor es: {numero3}\")\n",
        "else:\n",
        "    if numero2 >= numero3:\n",
        "        print(f\"El número mayor es: {numero2}\")\n",
        "    else:\n",
        "        print(f\"El número mayor es: {numero3}\")"
      ],
      "metadata": {
        "colab": {
          "base_uri": "https://localhost:8080/"
        },
        "id": "mJybo97AjfsO",
        "outputId": "b7661ccf-dfe5-4bc5-fa8a-c13b5dbb584d"
      },
      "execution_count": 5,
      "outputs": [
        {
          "output_type": "stream",
          "name": "stdout",
          "text": [
            "Escriba su primer número: 78\n",
            "Escriba su segundo número: 98\n",
            "Escriba su tercer número: 09\n",
            "El número mayor es: 98.0\n"
          ]
        }
      ]
    },
    {
      "cell_type": "markdown",
      "source": [
        "Ejercicio 4:\n",
        "\n",
        "Programe una función que resuelva ecuaciones de segundo grado utilizando la fórmula general. El usuario debe ingresar los valores de a, b y c. Genere valores por default por si el usuario no ingresa un número entero o flotante. Además, calcule el valor del discriminante (b^2 - 4ac) y determine si tiene soluciones reales, soluciones complejas. Imprima el resultado."
      ],
      "metadata": {
        "id": "-d6xp0-fk_0K"
      }
    },
    {
      "cell_type": "code",
      "source": [
        "#Ejercicio 4\n",
        "import cmath\n",
        "\n",
        "def resolver_ecuacion_cuadratica(a=None, b=None, c=None):\n",
        "\n",
        "    a = a if a is not None else 3\n",
        "    b = b if b is not None else 2\n",
        "    c = c if c is not None else 3\n",
        "\n",
        "    if a == 0:\n",
        "        return \"El valor de 'a' no puede ser 0, por favor, ingrese otro diferente.\"\n",
        "\n",
        "    discriminante = cmath.sqrt(b**2 - 4*a*c)\n",
        "\n",
        "    solucion1 = (-b + discriminante) / (2 * a)\n",
        "    solucion2 = (-b - discriminante) / (2 * a)\n",
        "\n",
        "    if discriminante.imag == 0:\n",
        "        if discriminante.real > 0:\n",
        "            return f\"Las soluciones son reales y distintas: x₁ = {solucion1.real}, x₂ = {solucion2.real}\"\n",
        "        else:\n",
        "            return f\"La solución es real y doble: x = {solucion1.real}\"\n",
        "    else:\n",
        "        return f\"Las soluciones son complejas: x₁ = {solucion1}, x₂ = {solucion2}\"\n",
        "\n",
        "try:\n",
        "    a = float(input(\"Escribe el valor de 'a' para el coeficiente cuadrático: \"))\n",
        "    b = float(input(\"Escribe el valor de 'b' para el coeficiente lineal: \"))\n",
        "    c = float(input(\"Escribe el valor de 'c' para el término independiente: \"))\n",
        "    resultado = resolver_ecuacion_cuadratica(a, b, c)\n",
        "except ValueError:\n",
        "    print(\"Por favor, ingresa números válidos.\")\n",
        "else:\n",
        "    print(resultado)"
      ],
      "metadata": {
        "colab": {
          "base_uri": "https://localhost:8080/"
        },
        "id": "JwWVkN4Gvqbl",
        "outputId": "f6a4761d-bb11-4414-e241-9b68fb740cf6"
      },
      "execution_count": 8,
      "outputs": [
        {
          "output_type": "stream",
          "name": "stdout",
          "text": [
            "Escribe el valor de 'a' para el coeficiente cuadrático: 4\n",
            "Escribe el valor de 'b' para el coeficiente lineal: -3\n",
            "Escribe el valor de 'c' para el término independiente: 6\n",
            "Las soluciones son complejas: x₁ = (0.375+1.165922381636102j), x₂ = (0.375-1.165922381636102j)\n"
          ]
        }
      ]
    },
    {
      "cell_type": "markdown",
      "source": [
        "Ejercicio 5:\n",
        "\n",
        "Escriba una función que reciba una lista de números y devuelva dos listas: una con los números positivos y otra con los negativos."
      ],
      "metadata": {
        "id": "IS53oYpPxpbo"
      }
    },
    {
      "cell_type": "code",
      "source": [
        "#Ejercicio 5:\n",
        "def separar_positivos_negativos(lista=None):\n",
        "\n",
        "    if lista is None:\n",
        "        lista = [3, -7, 0, 5, -2, 8, -1]\n",
        "\n",
        "    positivos = []\n",
        "    negativos = []\n",
        "\n",
        "    for num in lista:\n",
        "        if num >= 0:\n",
        "            positivos.append(num)\n",
        "        else:\n",
        "            negativos.append(num)\n",
        "\n",
        "    return positivos, negativos\n",
        "\n",
        "entrada = input(\"Por favor escribe una lista de número negativos y positivos, separados por una coma: \")\n",
        "try:\n",
        "    lista_usuario = [float(x.strip()) for x in entrada.split(',')]\n",
        "    positivos, negativos = separar_positivos_negativos(lista_usuario)\n",
        "    print(f\"Números positivos: {positivos}\")\n",
        "    print(f\"Números negativos: {negativos}\")\n",
        "except ValueError:\n",
        "    print(\"Entrada no válida. Usando lista predeterminada.\")\n",
        "    positivos, negativos = separar_positivos_negativos()\n",
        "    print(f\"Números positivos: {positivos}\")\n",
        "    print(f\"Números negativos: {negativos}\")"
      ],
      "metadata": {
        "colab": {
          "base_uri": "https://localhost:8080/"
        },
        "id": "h__mi_sjynJO",
        "outputId": "d1b278e4-0e4f-425e-c519-42469ae844fd"
      },
      "execution_count": 10,
      "outputs": [
        {
          "output_type": "stream",
          "name": "stdout",
          "text": [
            "Por favor escribe una lista de número negativos y positivos, separados por una coma: 3,6,-2,-34,67\n",
            "Números positivos: [3.0, 6.0, 67.0]\n",
            "Números negativos: [-2.0, -34.0]\n"
          ]
        }
      ]
    },
    {
      "cell_type": "markdown",
      "source": [
        "Ejercicio 6:\n",
        "\n",
        "Escriba una función que reciba una lista de datos (la de abajo) y devuelva listas con los datos filtrados. Este programa debe separar los datos en int, str, bool, float. Hint: use la función append para insertar datos en las listas.\n",
        "\n",
        "Datos= [5, 2.4, \"hola\", 7, 10, 3.14,True,False, \"Hi\", 0, 0.265]"
      ],
      "metadata": {
        "id": "Or2MAKBlzZoo"
      }
    },
    {
      "cell_type": "markdown",
      "source": [
        "Ejercicio 7\n",
        "\n",
        "Imprimir pirámide de asteriscos Descripción: Crea una función que imprima una pirámide de asteriscos usando bucles anidados, donde el número de niveles de la pirámide sea un valor dado."
      ],
      "metadata": {
        "id": "NaiT9PGGzpIX"
      }
    },
    {
      "cell_type": "code",
      "source": [
        "#Ejercicio 7\n",
        "def imprimir_piramide(niveles):\n",
        "    \"\"\"\n",
        "    Imprime una pirámide de asteriscos con el número de niveles especificado.\n",
        "\n",
        "    :param niveles: Número de niveles de la pirámide.\n",
        "    \"\"\"\n",
        "    for i in range(1, niveles + 1):\n",
        "        asteriscos = i\n",
        "        print('*' * asteriscos)\n",
        "\n",
        "# Solicitar al usuario el número de niveles\n",
        "try:\n",
        "    niveles = int(input(\"Ingresa el número de niveles de la pirámide: \"))\n",
        "    if niveles < 1:\n",
        "        print(\"Por favor, ingresa un número mayor o igual a 1.\")\n",
        "    else:\n",
        "        imprimir_piramide(niveles)\n",
        "except ValueError:\n",
        "    print(\"Entrada no válida. Por favor, ingresa un número entero.\")"
      ],
      "metadata": {
        "colab": {
          "base_uri": "https://localhost:8080/"
        },
        "id": "meoJQhgIzyZ0",
        "outputId": "b4806c0b-a4c7-48b6-f022-a733d399d288"
      },
      "execution_count": 15,
      "outputs": [
        {
          "output_type": "stream",
          "name": "stdout",
          "text": [
            "Ingresa el número de niveles de la pirámide: 6\n",
            "*\n",
            "**\n",
            "***\n",
            "****\n",
            "*****\n",
            "******\n"
          ]
        }
      ]
    },
    {
      "cell_type": "markdown",
      "source": [
        "Ejercicio 8:\n",
        "\n",
        "Utilizando listas, diccionarios y fuciones Lambda, programe un reloj mundial, en el que ingrese como entrada la hora de la Ciudad de México y muestre la hora en las siguientes ciudades:\n",
        "\n",
        "Tokio, Japón\n",
        "\n",
        "Pekín, China\n",
        "\n",
        "Dusambé, Tayikistán\n",
        "\n",
        "Perth, Australia\n",
        "\n",
        "Katmandú, Nepal\n",
        "\n",
        "Vilna, Lituania\n",
        "\n",
        "Freetown, Sierra Leona\n",
        "\n",
        "Rio de Janeiro, Brasil\n",
        "\n",
        "Tegucigalpa, Honduras\n",
        "\n",
        "Kinsgton, Jamaica\n",
        "\n",
        "Los Ángeles, EUA\n",
        "\n",
        "Documente los procesos esenciales del código. Mucho ojo. Al pasar las 24 horas (00:00 horas) se debe hacer la diferencia (o suma) para que no obtengan horas mayores a 24."
      ],
      "metadata": {
        "id": "tsLGKr4Q1OS3"
      }
    },
    {
      "cell_type": "markdown",
      "source": [
        "Ejercicio 9:\n",
        "\n",
        "Programar una función que calcule la distancia entre dos puntos en el plano cartesiano, dadas sus coordenadas (x1, y1) y (x2, y2)."
      ],
      "metadata": {
        "id": "HK-R9FM31YDw"
      }
    },
    {
      "cell_type": "code",
      "source": [
        "#Ejercicio 9\n",
        "import math\n",
        "\n",
        "def calcular_distancia(x1, y1, x2, y2):\n",
        "    \"\"\"\n",
        "    Calcula la distancia entre dos puntos en el plano cartesiano.\n",
        "\n",
        "    :parámetro x1, y1: Coordenadas del primer punto.\n",
        "    :parámetro x2, y2: Coordenadas del segundo punto.\n",
        "    :return: Distancia entre los dos puntos.\n",
        "    \"\"\"\n",
        "    return math.sqrt((x2 - x1)**2 + (y2 - y1)**2)\n",
        "\n",
        "try:\n",
        "    x1, y1 = map(float, input(\"Ingresa las coordenadas del primer punto (x1, y1): \").split(','))\n",
        "    x2, y2 = map(float, input(\"Ingresa las coordenadas del segundo punto (x2, y2): \").split(','))\n",
        "    distancia = calcular_distancia(x1, y1, x2, y2)\n",
        "    print(f\"La distancia entre los puntos ({x1}, {y1}) y ({x2}, {y2}) es: {distancia}\")\n",
        "except ValueError:\n",
        "    print(\"Entrada no válida. Por favor, ingresa números válidos separados por comas.\")"
      ],
      "metadata": {
        "colab": {
          "base_uri": "https://localhost:8080/"
        },
        "id": "jGHbRHD31hHv",
        "outputId": "1d44b9f5-935d-490a-bd8f-b52c3f72b90c"
      },
      "execution_count": 17,
      "outputs": [
        {
          "output_type": "stream",
          "name": "stdout",
          "text": [
            "Ingresa las coordenadas del primer punto (x1, y1): 3,7\n",
            "Ingresa las coordenadas del segundo punto (x2, y2): 9,4\n",
            "La distancia entre los puntos (3.0, 7.0) y (9.0, 4.0) es: 6.708203932499369\n"
          ]
        }
      ]
    }
  ]
}